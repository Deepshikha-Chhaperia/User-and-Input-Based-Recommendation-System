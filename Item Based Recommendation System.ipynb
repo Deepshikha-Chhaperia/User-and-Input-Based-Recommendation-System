{
 "cells": [
  {
   "cell_type": "markdown",
   "id": "802fd846",
   "metadata": {},
   "source": [
    "It is a type of collaborative filtering that focuses on the similarity between items rather than users. The goal of item-based collaborative filtering is to recommend items to users based on their past interactions or preferences and the similarities between items."
   ]
  },
  {
   "cell_type": "code",
   "execution_count": 1,
   "id": "0eca2e99",
   "metadata": {},
   "outputs": [
    {
     "name": "stdout",
     "output_type": "stream",
     "text": [
      "                       id  followers genres  \\\n",
      "0  0DheY5irMjBUeLybbCUEZ2        0.0    NaN   \n",
      "1  0DlhY15l3wsrnlfGio2bjU        5.0    NaN   \n",
      "2  0DmRESX2JknGPQyO15yxg7        0.0    NaN   \n",
      "3  0DmhnbHjm1qw6NCYPeZNgJ        0.0    NaN   \n",
      "4  0Dn11fWM7vHQ3rinvWEl4E        2.0    NaN   \n",
      "\n",
      "                                             name  popularity  \n",
      "0  Armid & Amir Zare Pashai feat. Sara Rouzbehani           0  \n",
      "1                                     ปูนา ภาวิณี           0  \n",
      "2                                           Sadaa           0  \n",
      "3                                       Tra'gruda           0  \n",
      "4                          Ioannis Panoutsopoulos           0  \n"
     ]
    }
   ],
   "source": [
    "import pandas as pd\n",
    "\n",
    "# Read the CSV file with tab delimiter\n",
    "artists_df = pd.read_csv('artists_transformed.csv', delimiter=',')\n",
    "\n",
    "# Display the first few rows of the dataframe\n",
    "print(artists_df.head())"
   ]
  },
  {
   "cell_type": "code",
   "execution_count": 2,
   "id": "f00335dd",
   "metadata": {},
   "outputs": [],
   "source": [
    "import pandas as pd\n",
    "from sklearn.feature_extraction.text import CountVectorizer\n",
    "\n",
    "# Sample data (replace this with your actual data)\n",
    "# Read data files\n",
    "tracks = pd.read_csv('tracks_transformed.csv', na_filter=False)\n",
    "artists = pd.read_csv('artists_transformed.csv',  delimiter=',')\n",
    "genres = pd.read_csv('data_by_genres.csv', na_filter=False)\n",
    "\n",
    "# Create CountVectorizer object for genres\n",
    "song_vectorizer = CountVectorizer()\n",
    "song_vectorizer.fit(tracks['genres'])\n",
    "tracks['genres_vec'] = song_vectorizer.transform(tracks['genres'])\n"
   ]
  },
  {
   "cell_type": "code",
   "execution_count": 3,
   "id": "a04d2088",
   "metadata": {},
   "outputs": [],
   "source": [
    "# Convert genres to one-hot encoded columns\n",
    "genres_encoded = tracks['genres'].str.join('|').str.get_dummies()\n",
    "tracks = pd.concat([tracks, genres_encoded], axis=1)"
   ]
  },
  {
   "cell_type": "code",
   "execution_count": 4,
   "id": "0325d480",
   "metadata": {},
   "outputs": [
    {
     "name": "stdout",
     "output_type": "stream",
     "text": [
      "Recommended Tracks:\n",
      "                            id                      name       artists\n",
      "0       35iwgR4jXetI318WEWsa1Q                     Carve           Uli\n",
      "282516  3MMLwxgSY1ZtTN7w3DKb6m  É triste ser-se crescido    Rui Veloso\n",
      "318537  4DqEDFO7IWPrvwPufxso5D                   One Day         Björk\n",
      "270958  4IIPXv1sKuSiepfVVWNOWR                        心箭  Shirley Kwan\n",
      "270326  0eMJSyWLXKXBBiIEReMnvI        酒店大堂 (Hotel Lobby)      Eddie Ng\n"
     ]
    }
   ],
   "source": [
    "from sklearn.neighbors import NearestNeighbors\n",
    "from sklearn.preprocessing import StandardScaler\n",
    "import pandas as pd\n",
    "\n",
    "# Sample data (replace this with your actual data)\n",
    "tracks = pd.read_csv('tracks_transformed.csv', na_filter=False)\n",
    "\n",
    "# Features to consider for similarity calculation\n",
    "features = ['popularity', 'danceability', 'energy', 'loudness', 'valence', 'tempo']\n",
    "\n",
    "# Select features and standardize the data\n",
    "X = tracks[features]\n",
    "scaler = StandardScaler()\n",
    "X_scaled = scaler.fit_transform(X)\n",
    "\n",
    "# Build k-nearest neighbors model\n",
    "k = 5  # Number of similar tracks to recommend\n",
    "knn_model = NearestNeighbors(n_neighbors=k, algorithm='ball_tree')\n",
    "knn_model.fit(X_scaled)\n",
    "\n",
    "# Function to recommend tracks based on input track\n",
    "def input_based_recommendation(track_index, knn_model, tracks_df):\n",
    "    _, indices = knn_model.kneighbors(X_scaled[track_index].reshape(1, -1))\n",
    "    recommended_tracks = tracks_df.iloc[indices[0]]\n",
    "    return recommended_tracks\n",
    "\n",
    "# Example usage\n",
    "input_track_index = 0  # Replace with the index of the input track\n",
    "recommended_tracks = input_based_recommendation(input_track_index, knn_model, tracks)\n",
    "\n",
    "# Display recommended tracks\n",
    "print(\"Recommended Tracks:\")\n",
    "print(recommended_tracks[['id', 'name', 'artists']])\n"
   ]
  },
  {
   "cell_type": "code",
   "execution_count": 5,
   "id": "3eac36de",
   "metadata": {},
   "outputs": [],
   "source": [
    "import pandas as pd\n",
    "from sklearn.metrics.pairwise import cosine_similarity\n",
    "\n",
    "# Load the datasets\n",
    "tracks_df = pd.read_csv('tracks_transformed.csv')\n",
    "data_by_genres_df = pd.read_csv('data_by_genres.csv')\n",
    "\n",
    "# Select relevant features for recommendation\n",
    "features = ['popularity', 'danceability', 'energy', 'acousticness', 'instrumentalness', 'liveness', 'valence', 'tempo']\n",
    "\n",
    "# Calculate cosine similarity matrix\n",
    "cosine_sim = cosine_similarity(data_by_genres_df[features], data_by_genres_df[features])\n",
    "\n",
    "# Define a function to get recommendations\n",
    "def get_recommendations(input_features, top_n=5):\n",
    "    input_features = pd.DataFrame([input_features], columns=features)\n",
    "    sim_scores = cosine_similarity(input_features, data_by_genres_df[features])\n",
    "    sim_scores = list(enumerate(sim_scores[0]))\n",
    "    sim_scores = sorted(sim_scores, key=lambda x: x[1], reverse=True)\n",
    "    genres_indices = [i[0] for i in sim_scores]\n",
    "    recommended_tracks = pd.DataFrame(columns=['id', 'name', 'artists'])\n",
    "    for idx in genres_indices:\n",
    "        genre = data_by_genres_df['genres'].iloc[idx]\n",
    "        tracks_in_genre = tracks_df[tracks_df['genres'] == genre]\n",
    "        recommended_tracks = recommended_tracks.append(tracks_in_genre[['id', 'name', 'artists']])\n",
    "    recommended_tracks = recommended_tracks.drop_duplicates()\n",
    "    return recommended_tracks.head(top_n)\n",
    "\n",
    "# Example input features (you can change these values)\n",
    "input_features = {\n",
    "    'popularity': 10,\n",
    "    'danceability': 0.6,\n",
    "    'energy': 0.7,\n",
    "    'acousticness': 0.2,\n",
    "    'instrumentalness': 0.1,\n",
    "    'liveness': 0.5,\n",
    "    'valence': 0.8,\n",
    "    'tempo': 120\n",
    "}\n",
    "\n",
    "recommendations = get_recommendations(input_features)"
   ]
  },
  {
   "cell_type": "code",
   "execution_count": 6,
   "id": "64846369",
   "metadata": {},
   "outputs": [
    {
     "data": {
      "text/html": [
       "<div>\n",
       "<style scoped>\n",
       "    .dataframe tbody tr th:only-of-type {\n",
       "        vertical-align: middle;\n",
       "    }\n",
       "\n",
       "    .dataframe tbody tr th {\n",
       "        vertical-align: top;\n",
       "    }\n",
       "\n",
       "    .dataframe thead th {\n",
       "        text-align: right;\n",
       "    }\n",
       "</style>\n",
       "<table border=\"1\" class=\"dataframe\">\n",
       "  <thead>\n",
       "    <tr style=\"text-align: right;\">\n",
       "      <th></th>\n",
       "      <th>id</th>\n",
       "      <th>name</th>\n",
       "      <th>artists</th>\n",
       "    </tr>\n",
       "  </thead>\n",
       "  <tbody>\n",
       "    <tr>\n",
       "      <th>11530</th>\n",
       "      <td>07lrCEyjZL5jYZdwzwH9CM</td>\n",
       "      <td>Pistol Packin' Mama</td>\n",
       "      <td>Al Dexter &amp; His Troopers</td>\n",
       "    </tr>\n",
       "    <tr>\n",
       "      <th>320025</th>\n",
       "      <td>5cy8U3knWBPQ1gHhTQ1DC2</td>\n",
       "      <td>Telling My Troubles To My Old Guitar - Buddha ...</td>\n",
       "      <td>Chet Atkins and his Guitar Pickers</td>\n",
       "    </tr>\n",
       "    <tr>\n",
       "      <th>320036</th>\n",
       "      <td>4BfPITJixw7NLEO0Ioby00</td>\n",
       "      <td>Galloping On The Guitar - Buddha Remastered - ...</td>\n",
       "      <td>Chet Atkins and his Guitar Pickers</td>\n",
       "    </tr>\n",
       "    <tr>\n",
       "      <th>320068</th>\n",
       "      <td>2TubootYKHqtR3AH3c6dTX</td>\n",
       "      <td>Dance Of The Goldenrod - Buddha Remastered - 2000</td>\n",
       "      <td>Chet Atkins and his Guitar Pickers</td>\n",
       "    </tr>\n",
       "    <tr>\n",
       "      <th>320130</th>\n",
       "      <td>4VNaGqyRYEP6xeWWsZrm0I</td>\n",
       "      <td>Centipede Boogie - Buddha Remastered - 2000</td>\n",
       "      <td>Chet Atkins and his Guitar Pickers</td>\n",
       "    </tr>\n",
       "  </tbody>\n",
       "</table>\n",
       "</div>"
      ],
      "text/plain": [
       "                            id  \\\n",
       "11530   07lrCEyjZL5jYZdwzwH9CM   \n",
       "320025  5cy8U3knWBPQ1gHhTQ1DC2   \n",
       "320036  4BfPITJixw7NLEO0Ioby00   \n",
       "320068  2TubootYKHqtR3AH3c6dTX   \n",
       "320130  4VNaGqyRYEP6xeWWsZrm0I   \n",
       "\n",
       "                                                     name  \\\n",
       "11530                                 Pistol Packin' Mama   \n",
       "320025  Telling My Troubles To My Old Guitar - Buddha ...   \n",
       "320036  Galloping On The Guitar - Buddha Remastered - ...   \n",
       "320068  Dance Of The Goldenrod - Buddha Remastered - 2000   \n",
       "320130        Centipede Boogie - Buddha Remastered - 2000   \n",
       "\n",
       "                                   artists  \n",
       "11530             Al Dexter & His Troopers  \n",
       "320025  Chet Atkins and his Guitar Pickers  \n",
       "320036  Chet Atkins and his Guitar Pickers  \n",
       "320068  Chet Atkins and his Guitar Pickers  \n",
       "320130  Chet Atkins and his Guitar Pickers  "
      ]
     },
     "execution_count": 6,
     "metadata": {},
     "output_type": "execute_result"
    }
   ],
   "source": [
    "recommendations"
   ]
  },
  {
   "cell_type": "code",
   "execution_count": 7,
   "id": "21d80ea8",
   "metadata": {},
   "outputs": [
    {
     "name": "stderr",
     "output_type": "stream",
     "text": [
      "C:\\Users\\khush\\anaconda3\\lib\\site-packages\\implicit\\utils.py:33: UserWarning: Intel MKL BLAS detected. Its highly recommend to set the environment variable 'export MKL_NUM_THREADS=1' to disable its internal multithreading\n",
      "  warnings.warn(\n"
     ]
    },
    {
     "data": {
      "application/vnd.jupyter.widget-view+json": {
       "model_id": "116130ec11474c53b0f3320a1dd3fc90",
       "version_major": 2,
       "version_minor": 0
      },
      "text/plain": [
       "  0%|          | 0/50 [00:00<?, ?it/s]"
      ]
     },
     "metadata": {},
     "output_type": "display_data"
    },
    {
     "data": {
      "application/vnd.jupyter.widget-view+json": {
       "model_id": "9fbf50a6fa9d4bd388f0da23a4e73313",
       "version_major": 2,
       "version_minor": 0
      },
      "text/plain": [
       "  0%|          | 0/28030 [00:00<?, ?it/s]"
      ]
     },
     "metadata": {},
     "output_type": "display_data"
    },
    {
     "name": "stdout",
     "output_type": "stream",
     "text": [
      "Precision at 10: 0.0129\n"
     ]
    }
   ],
   "source": [
    "import pandas as pd\n",
    "from scipy.sparse import coo_matrix\n",
    "from implicit.als import AlternatingLeastSquares\n",
    "from implicit.evaluation import train_test_split, precision_at_k\n",
    "import numpy as np\n",
    "\n",
    "# Load the datasets\n",
    "artists_df = pd.read_csv(\"artists_transformed.csv\")\n",
    "tracks_df = pd.read_csv(\"tracks_transformed.csv\")\n",
    "\n",
    "# Create a mapping of artist IDs to indices\n",
    "artist_id_mapping = {artist_id: idx for idx, artist_id in enumerate(artists_df['id'])}\n",
    "\n",
    "# Create a mapping of track IDs to indices\n",
    "track_id_mapping = {track_id: idx for idx, track_id in enumerate(tracks_df['id'])}\n",
    "\n",
    "# Create a sparse matrix of artist-track interactions\n",
    "interactions = []\n",
    "for _, row in tracks_df.iterrows():\n",
    "    track_idx = track_id_mapping[row['id']]\n",
    "    for artist_id in eval(row['id_artists']):\n",
    "        if artist_id in artist_id_mapping:  # Check if artist ID exists\n",
    "            artist_idx = artist_id_mapping[artist_id]\n",
    "            interactions.append((artist_idx, track_idx))\n",
    "\n",
    "rows, cols = zip(*interactions)\n",
    "interaction_matrix = coo_matrix(([1] * len(rows), (rows, cols)))\n",
    "\n",
    "# Train-test split\n",
    "train_interactions, test_interactions = train_test_split(interaction_matrix)\n",
    "\n",
    "# Initialize and train the model\n",
    "model = AlternatingLeastSquares(factors=100, iterations=50)\n",
    "model.fit(train_interactions)\n",
    "\n",
    "# Evaluate precision at k\n",
    "k = 10  # Number of recommendations\n",
    "precision = precision_at_k(model, train_interactions, test_interactions, K=k)\n",
    "mean_precision = np.mean(precision)\n",
    "print(f\"Precision at {k}: {mean_precision:.4f}\")"
   ]
  },
  {
   "cell_type": "markdown",
   "id": "c6684413",
   "metadata": {},
   "source": [
    "The precision value of 0.0129 means that, on average, out of the top 10 recommendations made by the model, about 1.32% of them were actually relevant to the user. This indicates that the current model's performance in recommending relevant tracks to users is quite low."
   ]
  },
  {
   "cell_type": "code",
   "execution_count": 14,
   "id": "48f182fa",
   "metadata": {},
   "outputs": [
    {
     "name": "stdout",
     "output_type": "stream",
     "text": [
      "Randomly selected song: Blanka\n",
      "Top 15 most similar songs to 'Blanka':\n",
      "1. Problems\n",
      "2. To Koritsi Tou Mpampa\n",
      "3. The Things I Should Have Said - 2003 Digital Remaster\n",
      "4. Young Dumb & Broke\n",
      "5. Seven\n",
      "6. Suddenly - Xanadu/Soundtrack Version\n",
      "7. Love Someone\n",
      "8. You & I (Nobody in the World)\n",
      "9. Eendag As Ons Groot Is\n",
      "10. Wat Geweest Is, Is Geweest\n",
      "11. Aspirini\n",
      "12. Sway\n",
      "13. Remind Me to Forget\n",
      "14. Blockia\n",
      "15. Let's Try It Again\n"
     ]
    }
   ],
   "source": [
    "import pandas as pd\n",
    "import numpy as np\n",
    "from sklearn.metrics.pairwise import cosine_similarity\n",
    "\n",
    "artists_transformed = pd.read_csv('artists_transformed.csv', delimiter=',')\n",
    "tracks_transformed = pd.read_csv('tracks_transformed.csv', delimiter=',')\n",
    "\n",
    "# Assuming you want to randomly select a song name\n",
    "random_song_name = tracks_transformed['name'].sample(1, random_state=42).values[0]\n",
    "\n",
    "# Find the index of the selected song in the tracks_transformed dataset\n",
    "selected_song_index = tracks_transformed[tracks_transformed['name'] == random_song_name].index[0]\n",
    "\n",
    "# Select the features for computing similarity\n",
    "selected_features = ['danceability', 'energy', 'acousticness', 'instrumentalness', 'liveness', 'valence']\n",
    "\n",
    "# Get the features for the selected song\n",
    "selected_song_features = tracks_transformed.loc[selected_song_index, selected_features].values.reshape(1, -1)\n",
    "\n",
    "# Get the features for all songs\n",
    "all_song_features = tracks_transformed[selected_features].values\n",
    "\n",
    "# Compute cosine similarity\n",
    "similarity_scores = cosine_similarity(selected_song_features, all_song_features).flatten()\n",
    "\n",
    "# Find the indices of songs that are most similar to the selected song\n",
    "most_similar_song_indices = np.argsort(similarity_scores)[::-1]\n",
    "\n",
    "# Get the names of the top 15 most similar songs (excluding the selected song itself)\n",
    "top_similar_song_names = tracks_transformed.loc[most_similar_song_indices[1:16], 'name']\n",
    "\n",
    "print(f\"Randomly selected song: {random_song_name}\")\n",
    "print(f\"Top 15 most similar songs to '{random_song_name}':\")\n",
    "for i, song_name in enumerate(top_similar_song_names):\n",
    "    print(f\"{i+1}. {song_name}\")"
   ]
  },
  {
   "cell_type": "code",
   "execution_count": 28,
   "id": "09c6c605",
   "metadata": {},
   "outputs": [
    {
     "name": "stdout",
     "output_type": "stream",
     "text": [
      "Randomly selected song: Blanka\n",
      "Correlation with all other songs:\n"
     ]
    },
    {
     "data": {
      "text/html": [
       "<div>\n",
       "<style scoped>\n",
       "    .dataframe tbody tr th:only-of-type {\n",
       "        vertical-align: middle;\n",
       "    }\n",
       "\n",
       "    .dataframe tbody tr th {\n",
       "        vertical-align: top;\n",
       "    }\n",
       "\n",
       "    .dataframe thead th {\n",
       "        text-align: right;\n",
       "    }\n",
       "</style>\n",
       "<table border=\"1\" class=\"dataframe\">\n",
       "  <thead>\n",
       "    <tr style=\"text-align: right;\">\n",
       "      <th></th>\n",
       "      <th>Song Name</th>\n",
       "      <th>Similarity Score</th>\n",
       "    </tr>\n",
       "  </thead>\n",
       "  <tbody>\n",
       "    <tr>\n",
       "      <th>381911</th>\n",
       "      <td>Blanka</td>\n",
       "      <td>1.000000</td>\n",
       "    </tr>\n",
       "    <tr>\n",
       "      <th>119412</th>\n",
       "      <td>Problems</td>\n",
       "      <td>0.999904</td>\n",
       "    </tr>\n",
       "    <tr>\n",
       "      <th>294510</th>\n",
       "      <td>To Koritsi Tou Mpampa</td>\n",
       "      <td>0.999872</td>\n",
       "    </tr>\n",
       "    <tr>\n",
       "      <th>77179</th>\n",
       "      <td>The Things I Should Have Said - 2003 Digital R...</td>\n",
       "      <td>0.999542</td>\n",
       "    </tr>\n",
       "    <tr>\n",
       "      <th>89954</th>\n",
       "      <td>Young Dumb &amp; Broke</td>\n",
       "      <td>0.999388</td>\n",
       "    </tr>\n",
       "    <tr>\n",
       "      <th>185203</th>\n",
       "      <td>Seven</td>\n",
       "      <td>0.999375</td>\n",
       "    </tr>\n",
       "    <tr>\n",
       "      <th>302084</th>\n",
       "      <td>Suddenly - Xanadu/Soundtrack Version</td>\n",
       "      <td>0.999330</td>\n",
       "    </tr>\n",
       "    <tr>\n",
       "      <th>91439</th>\n",
       "      <td>Love Someone</td>\n",
       "      <td>0.999243</td>\n",
       "    </tr>\n",
       "    <tr>\n",
       "      <th>86558</th>\n",
       "      <td>You &amp; I (Nobody in the World)</td>\n",
       "      <td>0.999242</td>\n",
       "    </tr>\n",
       "    <tr>\n",
       "      <th>112909</th>\n",
       "      <td>Eendag As Ons Groot Is</td>\n",
       "      <td>0.999237</td>\n",
       "    </tr>\n",
       "    <tr>\n",
       "      <th>143072</th>\n",
       "      <td>Wat Geweest Is, Is Geweest</td>\n",
       "      <td>0.999235</td>\n",
       "    </tr>\n",
       "    <tr>\n",
       "      <th>292692</th>\n",
       "      <td>Aspirini</td>\n",
       "      <td>0.999222</td>\n",
       "    </tr>\n",
       "    <tr>\n",
       "      <th>70676</th>\n",
       "      <td>Sway</td>\n",
       "      <td>0.999193</td>\n",
       "    </tr>\n",
       "    <tr>\n",
       "      <th>114878</th>\n",
       "      <td>Remind Me to Forget</td>\n",
       "      <td>0.999176</td>\n",
       "    </tr>\n",
       "    <tr>\n",
       "      <th>157984</th>\n",
       "      <td>Blockia</td>\n",
       "      <td>0.999164</td>\n",
       "    </tr>\n",
       "  </tbody>\n",
       "</table>\n",
       "</div>"
      ],
      "text/plain": [
       "                                                Song Name  Similarity Score\n",
       "381911                                             Blanka          1.000000\n",
       "119412                                           Problems          0.999904\n",
       "294510                              To Koritsi Tou Mpampa          0.999872\n",
       "77179   The Things I Should Have Said - 2003 Digital R...          0.999542\n",
       "89954                                  Young Dumb & Broke          0.999388\n",
       "185203                                              Seven          0.999375\n",
       "302084               Suddenly - Xanadu/Soundtrack Version          0.999330\n",
       "91439                                        Love Someone          0.999243\n",
       "86558                       You & I (Nobody in the World)          0.999242\n",
       "112909                             Eendag As Ons Groot Is          0.999237\n",
       "143072                         Wat Geweest Is, Is Geweest          0.999235\n",
       "292692                                           Aspirini          0.999222\n",
       "70676                                                Sway          0.999193\n",
       "114878                                Remind Me to Forget          0.999176\n",
       "157984                                            Blockia          0.999164"
      ]
     },
     "execution_count": 28,
     "metadata": {},
     "output_type": "execute_result"
    }
   ],
   "source": [
    "import pandas as pd\n",
    "import numpy as np\n",
    "from sklearn.metrics.pairwise import cosine_similarity\n",
    "\n",
    "# Load your datasets here (artists_transformed and tracks_transformed)\n",
    "# Verify the file paths and delimiter\n",
    "artists_transformed = pd.read_csv('artists_transformed.csv', delimiter=',')\n",
    "tracks_transformed = pd.read_csv('tracks_transformed.csv', delimiter=',')\n",
    "\n",
    "# Assuming you want to randomly select a song name\n",
    "random_song_name = tracks_transformed['name'].sample(1, random_state=42).values[0]\n",
    "\n",
    "# Find the index of the selected song in the tracks_transformed dataset\n",
    "selected_song_index = tracks_transformed[tracks_transformed['name'] == random_song_name].index[0]\n",
    "\n",
    "# Select the features for computing similarity\n",
    "selected_features = ['danceability', 'energy', 'acousticness', 'instrumentalness', 'liveness', 'valence']\n",
    "\n",
    "# Get the features for the selected song\n",
    "selected_song_features = tracks_transformed.loc[selected_song_index, selected_features].values.reshape(1, -1)\n",
    "\n",
    "# Get the features for all songs\n",
    "all_song_features = tracks_transformed[selected_features].values\n",
    "\n",
    "# Compute cosine similarity\n",
    "similarity_scores = cosine_similarity(selected_song_features, all_song_features).flatten()\n",
    "\n",
    "# Create a DataFrame to display the results\n",
    "song_similarity_df = pd.DataFrame({\n",
    "    'Song Name': tracks_transformed['name'],\n",
    "    'Similarity Score': similarity_scores\n",
    "})\n",
    "\n",
    "# Sort the DataFrame by similarity score in descending order\n",
    "song_similarity_df = song_similarity_df.sort_values(by='Similarity Score', ascending=False)\n",
    "\n",
    "# Print the correlation of the randomly selected song with all other songs\n",
    "print(f\"Randomly selected song: {random_song_name}\")\n",
    "print(f\"Correlation with all other songs:\")\n",
    "song_similarity_df.head(15)"
   ]
  },
  {
   "cell_type": "markdown",
   "id": "da3458e7",
   "metadata": {},
   "source": [
    "Recommended Songs/Artists Based on Your Selection:"
   ]
  },
  {
   "cell_type": "code",
   "execution_count": 31,
   "id": "bb175b12",
   "metadata": {},
   "outputs": [
    {
     "name": "stdout",
     "output_type": "stream",
     "text": [
      "Recommended Songs/Artists Based on Your Selection:\n",
      "                                                Name             Explanation\n",
      "0                                           Problems  Similarity Score: 1.00\n",
      "1                              To Koritsi Tou Mpampa  Similarity Score: 1.00\n",
      "2  The Things I Should Have Said - 2003 Digital R...  Similarity Score: 1.00\n",
      "3                                 Young Dumb & Broke  Similarity Score: 1.00\n",
      "4                                              Seven  Similarity Score: 1.00\n"
     ]
    },
    {
     "name": "stderr",
     "output_type": "stream",
     "text": [
      "<ipython-input-31-af1208e16cfc>:47: SettingWithCopyWarning: \n",
      "A value is trying to be set on a copy of a slice from a DataFrame.\n",
      "Try using .loc[row_indexer,col_indexer] = value instead\n",
      "\n",
      "See the caveats in the documentation: https://pandas.pydata.org/pandas-docs/stable/user_guide/indexing.html#returning-a-view-versus-a-copy\n",
      "  top_recommended_items['Explanation'] = explanations\n"
     ]
    }
   ],
   "source": [
    "import pandas as pd\n",
    "import numpy as np\n",
    "from sklearn.metrics.pairwise import cosine_similarity\n",
    "\n",
    "artists_transformed = pd.read_csv('artists_transformed.csv', delimiter=',')\n",
    "tracks_transformed = pd.read_csv('tracks_transformed.csv', delimiter=',')\n",
    "\n",
    "# Assuming you want to start with a selected song name or artist name\n",
    "selected_song_or_artist_name = 'Blanka'\n",
    "\n",
    "# Find the index of the selected song or artist in the tracks_transformed or artists_transformed dataset\n",
    "selected_index = tracks_transformed[tracks_transformed['name'] == selected_song_or_artist_name].index[0]\n",
    "\n",
    "# Select the features for computing similarity\n",
    "selected_features = ['danceability', 'energy', 'acousticness', 'instrumentalness', 'liveness', 'valence']\n",
    "\n",
    "# Get the features for the selected song or artist\n",
    "selected_features_vector = tracks_transformed.loc[selected_index, selected_features].values.reshape(1, -1)\n",
    "\n",
    "# Compute cosine similarity with all other songs or artists\n",
    "similarity_scores = cosine_similarity(selected_features_vector, tracks_transformed[selected_features].values).flatten()\n",
    "\n",
    "# Create a DataFrame to store recommended songs or artists with explanations\n",
    "recommended_items = pd.DataFrame(columns=['Name', 'Explanation'])\n",
    "\n",
    "# Sort by similarity score in descending order\n",
    "similar_items_df = pd.DataFrame({\n",
    "    'Name': tracks_transformed['name'],  \n",
    "    'Similarity Score': similarity_scores\n",
    "})\n",
    "\n",
    "# Exclude the selected item itself from recommendations\n",
    "similar_items_df = similar_items_df[similar_items_df['Name'] != selected_song_or_artist_name]\n",
    "\n",
    "# Sort by similarity score in descending order\n",
    "similar_items_df = similar_items_df.sort_values(by='Similarity Score', ascending=False)\n",
    "\n",
    "# Select the top N recommended items (e.g., N=5)\n",
    "top_recommended_items = similar_items_df.head(5)\n",
    "\n",
    "# Add explanations for recommendations\n",
    "explanations = []\n",
    "for idx, row in top_recommended_items.iterrows():\n",
    "    explanations.append(f\"Similarity Score: {row['Similarity Score']:.2f}\")\n",
    "top_recommended_items['Explanation'] = explanations\n",
    "\n",
    "# Append the recommended items to the DataFrame\n",
    "recommended_items = recommended_items.append(top_recommended_items[['Name', 'Explanation']], ignore_index=True)\n",
    "\n",
    "# Print the recommended items with explanations\n",
    "print(\"Recommended Songs/Artists Based on Your Selection:\")\n",
    "print(recommended_items)"
   ]
  },
  {
   "cell_type": "markdown",
   "id": "7290c929",
   "metadata": {},
   "source": [
    "the output is showing you a list of songs or artists that are recommended based on their similarity to the song or artist you initially selected (in this case, \"Problems\"). The \"Similarity Score\" provides a measure of how closely each recommended item matches your selection, with a score of 1.00 indicating a very high degree of similarity."
   ]
  },
  {
   "cell_type": "markdown",
   "id": "c856ac30",
   "metadata": {},
   "source": [
    "# Most popular songs/tracks"
   ]
  },
  {
   "cell_type": "code",
   "execution_count": 20,
   "id": "bd4bda35",
   "metadata": {},
   "outputs": [
    {
     "data": {
      "image/png": "[encoded data removed]",
      "text/plain": [
       "<Figure size 1152x720 with 1 Axes>"
      ]
     },
     "metadata": {
      "needs_background": "light"
     },
     "output_type": "display_data"
    }
   ],
   "source": [
    "import matplotlib.pyplot as plt\n",
    "%matplotlib inline\n",
    "# Get top 10 most popular tracks\n",
    "popular_songs = tracks.groupby('name')['popularity'].mean().sort_values(ascending=False).head(10)\n",
    "\n",
    "# Plot horizontal bar chart\n",
    "plt.figure(figsize=(16, 10))\n",
    "plt.barh(popular_songs.index, popular_songs)\n",
    "plt.title('Most Popular Songs/Tracks', fontdict=dict(fontsize=15), fontweight='bold')\n",
    "plt.xlabel('Popularity', fontdict=dict(fontsize=15), fontweight='bold')\n",
    "plt.ylabel('Song/Track Name', fontdict=dict(fontsize=15), fontweight='bold')\n",
    "plt.xticks(fontsize='large', weight='bold')\n",
    "plt.yticks(fontsize='large', weight='bold')\n",
    "for i, v in enumerate(popular_songs):\n",
    "    plt.text(v+0.5, i-0.15, str(int(v)), fontdict=dict(fontsize=15), fontweight='bold')\n",
    "plt.show()"
   ]
  },
  {
   "cell_type": "markdown",
   "id": "7d040f1f",
   "metadata": {},
   "source": [
    "# Most Popular Artists"
   ]
  },
  {
   "cell_type": "code",
   "execution_count": 21,
   "id": "13c82074",
   "metadata": {},
   "outputs": [
    {
     "data": {
      "image/png": "[encoded data removed]",
      "text/plain": [
       "<Figure size 1152x720 with 1 Axes>"
      ]
     },
     "metadata": {
      "needs_background": "light"
     },
     "output_type": "display_data"
    }
   ],
   "source": [
    "# Get top 10 most popular artists\n",
    "popular_artists = artists.groupby('name')['popularity'].mean().sort_values(ascending=False).head(10)\n",
    "\n",
    "# Plot horizontal bar chart\n",
    "plt.figure(figsize=(16, 10))\n",
    "plt.barh(popular_artists.index, popular_artists)\n",
    "plt.title('Most Popular Artists', fontdict=dict(fontsize=15), fontweight='bold')\n",
    "plt.xlabel('Popularity', fontdict=dict(fontsize=15), fontweight='bold')\n",
    "plt.ylabel('Artist Name', fontdict=dict(fontsize=15), fontweight='bold')\n",
    "plt.xticks(fontsize='large', weight='bold')\n",
    "plt.yticks(fontsize='large', weight='bold')\n",
    "for i, v in enumerate(popular_artists):\n",
    "    plt.text(v+0.5, i-0.15, str(int(v)), fontdict=dict(fontsize=15), fontweight='bold')\n",
    "plt.show()"
   ]
  },
  {
   "cell_type": "markdown",
   "id": "63822ef6",
   "metadata": {},
   "source": [
    "# Top 10 genres"
   ]
  },
  {
   "cell_type": "code",
   "execution_count": 23,
   "id": "4f292ead",
   "metadata": {},
   "outputs": [
    {
     "data": {
      "image/png": "[encoded data removed]",
      "text/plain": [
       "<Figure size 1152x720 with 1 Axes>"
      ]
     },
     "metadata": {
      "needs_background": "light"
     },
     "output_type": "display_data"
    }
   ],
   "source": [
    "# Get top 10 most popular genres\n",
    "popular_genres = genres.groupby('genres')['popularity'].mean().sort_values(ascending=False).head(10)\n",
    "\n",
    "# Plot horizontal bar chart\n",
    "plt.figure(figsize=(16, 10))\n",
    "plt.barh(popular_genres.index, popular_genres)\n",
    "plt.title('Most Popular Genres', fontdict=dict(fontsize=15), fontweight='bold')\n",
    "plt.xlabel('Popularity', fontdict=dict(fontsize=15), fontweight='bold')\n",
    "plt.ylabel('Genre', fontdict=dict(fontsize=15), fontweight='bold')\n",
    "plt.xticks(fontsize='large', weight='bold')\n",
    "plt.yticks(fontsize='large', weight='bold')\n",
    "for i, v in enumerate(popular_genres):\n",
    "    plt.text(v+0.5, i-0.15, str(int(v)), fontdict=dict(fontsize=15),fontweight='bold')\n",
    "plt.show()"
   ]
  },
  {
   "cell_type": "code",
   "execution_count": null,
   "id": "fb759dbc",
   "metadata": {},
   "outputs": [],
   "source": []
  }
 ],
 "metadata": {
  "kernelspec": {
   "display_name": "Python 3 (ipykernel)",
   "language": "python",
   "name": "python3"
  },
  "language_info": {
   "codemirror_mode": {
    "name": "ipython",
    "version": 3
   },
   "file_extension": ".py",
   "mimetype": "text/x-python",
   "name": "python",
   "nbconvert_exporter": "python",
   "pygments_lexer": "ipython3",
   "version": "3.11.5"
  }
 },
 "nbformat": 4,
 "nbformat_minor": 5
}
